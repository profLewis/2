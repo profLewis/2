{
 "cells": [
  {
   "cell_type": "markdown",
   "metadata": {},
   "source": [
    "# Two stream numerical code and tests"
   ]
  },
  {
   "cell_type": "code",
   "execution_count": 39,
   "metadata": {},
   "outputs": [],
   "source": [
    "import numpy as np\n",
    "import matplotlib.pylab as plt\n",
    "%matplotlib inline\n",
    "tau,omega,xi,omegaSoil = 5.,0.5,0.0,0.0\n",
    "nsd=5\n",
    "theta=45\n",
    "dtau=0.01\n",
    "correct=False\n",
    "plot=False\n",
    "diffuse=True"
   ]
  },
  {
   "cell_type": "code",
   "execution_count": 40,
   "metadata": {},
   "outputs": [
    {
     "name": "stdout",
     "output_type": "stream",
     "text": [
      "5.0\n"
     ]
    }
   ],
   "source": [
    "# how many layers in canopy: nz_canopy\n",
    "nz_canopy = int(np.ceil(tau/(dtau)))\n",
    "dt = 1./float(nz_canopy)\n",
    "# need to know filter width   : nz_filter\n",
    "# value of tau for the filter : tauFilt\n",
    "\n",
    "tauFilt = np.arange(-nsd,nsd,dt)\n",
    "nz_filter = len(tauFilt)\n",
    "\n",
    "# need to know total extent to store: nz\n",
    "nz = int(nz_canopy+2*nz_filter)\n",
    "nz = 2*int(nz/2) \n",
    "\n",
    "# create canopy array of zeros : canopyI0\n",
    "tauCanopy = np.arange(nz)*dt - nz_filter*dt\n",
    "canopyI0 = np.zeros_like(tauCanopy)\n",
    "# source term: put unity at top of \n",
    "# canopy: index nz_filter-1\n",
    "canopyI0[tauCanopy==0] = 1.0\n",
    "\n",
    "\n",
    "canopyExtent = np.logical_and(tauCanopy>0,tauCanopy<=tau)\n",
    "print(canopyExtent.sum()*dt)"
   ]
  },
  {
   "cell_type": "code",
   "execution_count": 34,
   "metadata": {},
   "outputs": [
    {
     "data": {
      "text/plain": [
       "[<matplotlib.lines.Line2D at 0x11c5f0390>]"
      ]
     },
     "execution_count": 34,
     "metadata": {},
     "output_type": "execute_result"
    },
    {
     "data": {
      "image/png": "[encoded data removed]",
      "text/plain": [
       "<Figure size 432x288 with 1 Axes>"
      ]
     },
     "metadata": {
      "needs_background": "light"
     },
     "output_type": "display_data"
    }
   ],
   "source": [
    "plt.plot(tauCanopy,canopyExtent)"
   ]
  },
  {
   "cell_type": "code",
   "execution_count": 42,
   "metadata": {},
   "outputs": [],
   "source": [
    "'''\n",
    "Calculate Int(exp(-(t / mu) mu,dmu)/Int(exp(-(t / mu) mu,dmu)\n",
    "\n",
    "scipy.special.expi\n",
    "integral(exp(t)/t,t=-inf..x)\n",
    "\n",
    "'''\n",
    "\n",
    "n = 10001\n",
    "dmu = 1./(n-1)\n",
    "mu = np.arange(n)*dmu\n",
    "mask = mu==0\n",
    "\n",
    "m = np.zeros_like(mu)\n",
    "m[~mask] = 1./mu[~mask]\n",
    "m[mask] = 1e200\n",
    "\n",
    "dtau = 10./(n-1)\n",
    "tau = np.arange(n)*dtau\n",
    "\n",
    "ee = []\n",
    "for t in tau:\n",
    "    ee.append((np.exp(-t *m) * mu * dmu).sum()/(  np.atleast_1d(mu * dmu)).sum())\n",
    "    \n"
   ]
  },
  {
   "cell_type": "code",
   "execution_count": 38,
   "metadata": {},
   "outputs": [
    {
     "data": {
      "text/plain": [
       "[<matplotlib.lines.Line2D at 0x11c644f28>]"
      ]
     },
     "execution_count": 38,
     "metadata": {},
     "output_type": "execute_result"
    },
    {
     "data": {
      "image/png": "[encoded data removed]",
      "text/plain": [
       "<Figure size 432x288 with 1 Axes>"
      ]
     },
     "metadata": {
      "needs_background": "light"
     },
     "output_type": "display_data"
    }
   ],
   "source": [
    "plt.plot(ee)"
   ]
  },
  {
   "cell_type": "code",
   "execution_count": null,
   "metadata": {},
   "outputs": [],
   "source": []
  }
 ],
 "metadata": {
  "kernelspec": {
   "display_name": "Python 3",
   "language": "python",
   "name": "python3"
  },
  "language_info": {
   "codemirror_mode": {
    "name": "ipython",
    "version": 3
   },
   "file_extension": ".py",
   "mimetype": "text/x-python",
   "name": "python",
   "nbconvert_exporter": "python",
   "pygments_lexer": "ipython3",
   "version": "3.6.6"
  }
 },
 "nbformat": 4,
 "nbformat_minor": 2
}
